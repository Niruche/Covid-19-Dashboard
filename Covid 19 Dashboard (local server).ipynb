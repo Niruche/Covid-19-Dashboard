{
 "cells": [
  {
   "cell_type": "markdown",
   "metadata": {},
   "source": [
    "# Covid 19 Dashboard"
   ]
  },
  {
   "cell_type": "markdown",
   "metadata": {},
   "source": [
    "Import required python packages"
   ]
  },
  {
   "cell_type": "code",
   "execution_count": 1,
   "metadata": {},
   "outputs": [],
   "source": [
    "import pandas as pd\n",
    "from datetime import datetime\n",
    "\n",
    "# Graph packages\n",
    "import plotly.express as px\n",
    "import plotly.graph_objects as go\n",
    "\n",
    "# Dash web app packages\n",
    "import dash\n",
    "import dash_core_components as dcc\n",
    "import dash_html_components as html\n",
    "from dash.dependencies import Output, Input\n",
    "#import dash_bootstrap_components as dbc\n"
   ]
  },
  {
   "cell_type": "markdown",
   "metadata": {},
   "source": [
    "Load CSVs into a dataframe for easier manipulation"
   ]
  },
  {
   "cell_type": "code",
   "execution_count": 2,
   "metadata": {},
   "outputs": [
    {
     "data": {
      "text/html": [
       "<div>\n",
       "<style scoped>\n",
       "    .dataframe tbody tr th:only-of-type {\n",
       "        vertical-align: middle;\n",
       "    }\n",
       "\n",
       "    .dataframe tbody tr th {\n",
       "        vertical-align: top;\n",
       "    }\n",
       "\n",
       "    .dataframe thead th {\n",
       "        text-align: right;\n",
       "    }\n",
       "</style>\n",
       "<table border=\"1\" class=\"dataframe\">\n",
       "  <thead>\n",
       "    <tr style=\"text-align: right;\">\n",
       "      <th></th>\n",
       "      <th>Continent_Name</th>\n",
       "      <th>CountryCode</th>\n",
       "    </tr>\n",
       "  </thead>\n",
       "  <tbody>\n",
       "    <tr>\n",
       "      <th>0</th>\n",
       "      <td>Asia</td>\n",
       "      <td>AFG</td>\n",
       "    </tr>\n",
       "    <tr>\n",
       "      <th>1</th>\n",
       "      <td>Europe</td>\n",
       "      <td>ALB</td>\n",
       "    </tr>\n",
       "    <tr>\n",
       "      <th>2</th>\n",
       "      <td>Antarctica</td>\n",
       "      <td>ATA</td>\n",
       "    </tr>\n",
       "    <tr>\n",
       "      <th>3</th>\n",
       "      <td>Africa</td>\n",
       "      <td>DZA</td>\n",
       "    </tr>\n",
       "    <tr>\n",
       "      <th>4</th>\n",
       "      <td>Oceania</td>\n",
       "      <td>ASM</td>\n",
       "    </tr>\n",
       "  </tbody>\n",
       "</table>\n",
       "</div>"
      ],
      "text/plain": [
       "  Continent_Name CountryCode\n",
       "0           Asia         AFG\n",
       "1         Europe         ALB\n",
       "2     Antarctica         ATA\n",
       "3         Africa         DZA\n",
       "4        Oceania         ASM"
      ]
     },
     "execution_count": 2,
     "metadata": {},
     "output_type": "execute_result"
    }
   ],
   "source": [
    "country_continent = pd.read_csv('country-and-continent.csv')\n",
    "country_continent.head()"
   ]
  },
  {
   "cell_type": "markdown",
   "metadata": {},
   "source": [
    "As this dataframe will be involved in a merge it is good to understand the shape before and after the tables are merged to check whether the merge was conducted correctly."
   ]
  },
  {
   "cell_type": "code",
   "execution_count": 3,
   "metadata": {},
   "outputs": [
    {
     "data": {
      "text/plain": [
       "(262, 2)"
      ]
     },
     "execution_count": 3,
     "metadata": {},
     "output_type": "execute_result"
    }
   ],
   "source": [
    "country_continent.shape"
   ]
  },
  {
   "cell_type": "markdown",
   "metadata": {},
   "source": [
    "Determine whether there are any null values in any of the columns and the data type of each column"
   ]
  },
  {
   "cell_type": "code",
   "execution_count": 4,
   "metadata": {},
   "outputs": [
    {
     "name": "stdout",
     "output_type": "stream",
     "text": [
      "<class 'pandas.core.frame.DataFrame'>\n",
      "RangeIndex: 262 entries, 0 to 261\n",
      "Data columns (total 2 columns):\n",
      " #   Column          Non-Null Count  Dtype \n",
      "---  ------          --------------  ----- \n",
      " 0   Continent_Name  262 non-null    object\n",
      " 1   CountryCode     258 non-null    object\n",
      "dtypes: object(2)\n",
      "memory usage: 4.2+ KB\n"
     ]
    }
   ],
   "source": [
    "country_continent.info()"
   ]
  },
  {
   "cell_type": "markdown",
   "metadata": {},
   "source": [
    "Locate the country codes with missing values"
   ]
  },
  {
   "cell_type": "code",
   "execution_count": 5,
   "metadata": {},
   "outputs": [
    {
     "data": {
      "text/html": [
       "<div>\n",
       "<style scoped>\n",
       "    .dataframe tbody tr th:only-of-type {\n",
       "        vertical-align: middle;\n",
       "    }\n",
       "\n",
       "    .dataframe tbody tr th {\n",
       "        vertical-align: top;\n",
       "    }\n",
       "\n",
       "    .dataframe thead th {\n",
       "        text-align: right;\n",
       "    }\n",
       "</style>\n",
       "<table border=\"1\" class=\"dataframe\">\n",
       "  <thead>\n",
       "    <tr style=\"text-align: right;\">\n",
       "      <th></th>\n",
       "      <th>Continent_Name</th>\n",
       "      <th>CountryCode</th>\n",
       "    </tr>\n",
       "  </thead>\n",
       "  <tbody>\n",
       "    <tr>\n",
       "      <th>258</th>\n",
       "      <td>Oceania</td>\n",
       "      <td>NaN</td>\n",
       "    </tr>\n",
       "    <tr>\n",
       "      <th>259</th>\n",
       "      <td>Asia</td>\n",
       "      <td>NaN</td>\n",
       "    </tr>\n",
       "    <tr>\n",
       "      <th>260</th>\n",
       "      <td>Asia</td>\n",
       "      <td>NaN</td>\n",
       "    </tr>\n",
       "    <tr>\n",
       "      <th>261</th>\n",
       "      <td>Asia</td>\n",
       "      <td>NaN</td>\n",
       "    </tr>\n",
       "  </tbody>\n",
       "</table>\n",
       "</div>"
      ],
      "text/plain": [
       "    Continent_Name CountryCode\n",
       "258        Oceania         NaN\n",
       "259           Asia         NaN\n",
       "260           Asia         NaN\n",
       "261           Asia         NaN"
      ]
     },
     "execution_count": 5,
     "metadata": {},
     "output_type": "execute_result"
    }
   ],
   "source": [
    "country_continent.loc[country_continent.CountryCode.isnull()]"
   ]
  },
  {
   "cell_type": "markdown",
   "metadata": {},
   "source": [
    "Check the shape of dataframe before dropping any rows"
   ]
  },
  {
   "cell_type": "code",
   "execution_count": 6,
   "metadata": {},
   "outputs": [
    {
     "data": {
      "text/plain": [
       "(262, 2)"
      ]
     },
     "execution_count": 6,
     "metadata": {},
     "output_type": "execute_result"
    }
   ],
   "source": [
    "country_continent.shape"
   ]
  },
  {
   "cell_type": "markdown",
   "metadata": {},
   "source": [
    "As these missing values provide no information they can be removed from the dataframe"
   ]
  },
  {
   "cell_type": "code",
   "execution_count": 7,
   "metadata": {},
   "outputs": [],
   "source": [
    "country_continent = country_continent.dropna()"
   ]
  },
  {
   "cell_type": "markdown",
   "metadata": {},
   "source": [
    "The shape of the dataframe should now be four less than the original shape before the duplicates were dropped. "
   ]
  },
  {
   "cell_type": "code",
   "execution_count": 8,
   "metadata": {},
   "outputs": [
    {
     "data": {
      "text/plain": [
       "(258, 2)"
      ]
     },
     "execution_count": 8,
     "metadata": {},
     "output_type": "execute_result"
    }
   ],
   "source": [
    "country_continent.shape"
   ]
  },
  {
   "cell_type": "markdown",
   "metadata": {},
   "source": [
    "Load the OxCGRT_summary20200520 csv into a dataframe"
   ]
  },
  {
   "cell_type": "code",
   "execution_count": 9,
   "metadata": {},
   "outputs": [
    {
     "data": {
      "text/html": [
       "<div>\n",
       "<style scoped>\n",
       "    .dataframe tbody tr th:only-of-type {\n",
       "        vertical-align: middle;\n",
       "    }\n",
       "\n",
       "    .dataframe tbody tr th {\n",
       "        vertical-align: top;\n",
       "    }\n",
       "\n",
       "    .dataframe thead th {\n",
       "        text-align: right;\n",
       "    }\n",
       "</style>\n",
       "<table border=\"1\" class=\"dataframe\">\n",
       "  <thead>\n",
       "    <tr style=\"text-align: right;\">\n",
       "      <th></th>\n",
       "      <th>CountryName</th>\n",
       "      <th>CountryCode</th>\n",
       "      <th>Date</th>\n",
       "      <th>School closing</th>\n",
       "      <th>Stay at home requirements</th>\n",
       "      <th>ConfirmedCases</th>\n",
       "      <th>ConfirmedDeaths</th>\n",
       "      <th>StringencyIndex</th>\n",
       "    </tr>\n",
       "  </thead>\n",
       "  <tbody>\n",
       "    <tr>\n",
       "      <th>0</th>\n",
       "      <td>Aruba</td>\n",
       "      <td>ABW</td>\n",
       "      <td>20200301</td>\n",
       "      <td>0</td>\n",
       "      <td>0</td>\n",
       "      <td>NaN</td>\n",
       "      <td>NaN</td>\n",
       "      <td>0.0</td>\n",
       "    </tr>\n",
       "    <tr>\n",
       "      <th>1</th>\n",
       "      <td>Aruba</td>\n",
       "      <td>ABW</td>\n",
       "      <td>20200302</td>\n",
       "      <td>0</td>\n",
       "      <td>0</td>\n",
       "      <td>NaN</td>\n",
       "      <td>NaN</td>\n",
       "      <td>0.0</td>\n",
       "    </tr>\n",
       "    <tr>\n",
       "      <th>2</th>\n",
       "      <td>Aruba</td>\n",
       "      <td>ABW</td>\n",
       "      <td>20200303</td>\n",
       "      <td>0</td>\n",
       "      <td>0</td>\n",
       "      <td>NaN</td>\n",
       "      <td>NaN</td>\n",
       "      <td>0.0</td>\n",
       "    </tr>\n",
       "    <tr>\n",
       "      <th>3</th>\n",
       "      <td>Aruba</td>\n",
       "      <td>ABW</td>\n",
       "      <td>20200304</td>\n",
       "      <td>0</td>\n",
       "      <td>0</td>\n",
       "      <td>NaN</td>\n",
       "      <td>NaN</td>\n",
       "      <td>0.0</td>\n",
       "    </tr>\n",
       "    <tr>\n",
       "      <th>4</th>\n",
       "      <td>Aruba</td>\n",
       "      <td>ABW</td>\n",
       "      <td>20200305</td>\n",
       "      <td>0</td>\n",
       "      <td>0</td>\n",
       "      <td>NaN</td>\n",
       "      <td>NaN</td>\n",
       "      <td>0.0</td>\n",
       "    </tr>\n",
       "  </tbody>\n",
       "</table>\n",
       "</div>"
      ],
      "text/plain": [
       "  CountryName CountryCode      Date  School closing  \\\n",
       "0       Aruba         ABW  20200301               0   \n",
       "1       Aruba         ABW  20200302               0   \n",
       "2       Aruba         ABW  20200303               0   \n",
       "3       Aruba         ABW  20200304               0   \n",
       "4       Aruba         ABW  20200305               0   \n",
       "\n",
       "   Stay at home requirements  ConfirmedCases  ConfirmedDeaths  StringencyIndex  \n",
       "0                          0             NaN              NaN              0.0  \n",
       "1                          0             NaN              NaN              0.0  \n",
       "2                          0             NaN              NaN              0.0  \n",
       "3                          0             NaN              NaN              0.0  \n",
       "4                          0             NaN              NaN              0.0  "
      ]
     },
     "execution_count": 9,
     "metadata": {},
     "output_type": "execute_result"
    }
   ],
   "source": [
    "OxCGRT_df = pd.read_csv('OxCGRT_summary20200520.csv')\n",
    "OxCGRT_df.head()"
   ]
  },
  {
   "cell_type": "markdown",
   "metadata": {},
   "source": [
    "As this dataframe will be involved in a merge it is good to understand the shape before and after the tables are merged"
   ]
  },
  {
   "cell_type": "code",
   "execution_count": 10,
   "metadata": {},
   "outputs": [
    {
     "data": {
      "text/plain": [
       "(14013, 8)"
      ]
     },
     "execution_count": 10,
     "metadata": {},
     "output_type": "execute_result"
    }
   ],
   "source": [
    "OxCGRT_df.shape"
   ]
  },
  {
   "cell_type": "markdown",
   "metadata": {},
   "source": [
    "Determine whether there are any null values in any of the columns and the data type of each column"
   ]
  },
  {
   "cell_type": "code",
   "execution_count": 11,
   "metadata": {},
   "outputs": [
    {
     "name": "stdout",
     "output_type": "stream",
     "text": [
      "<class 'pandas.core.frame.DataFrame'>\n",
      "RangeIndex: 14013 entries, 0 to 14012\n",
      "Data columns (total 8 columns):\n",
      " #   Column                     Non-Null Count  Dtype  \n",
      "---  ------                     --------------  -----  \n",
      " 0   CountryName                14013 non-null  object \n",
      " 1   CountryCode                14013 non-null  object \n",
      " 2   Date                       14013 non-null  int64  \n",
      " 3   School closing             14013 non-null  int64  \n",
      " 4   Stay at home requirements  14013 non-null  int64  \n",
      " 5   ConfirmedCases             11910 non-null  float64\n",
      " 6   ConfirmedDeaths            11910 non-null  float64\n",
      " 7   StringencyIndex            14013 non-null  float64\n",
      "dtypes: float64(3), int64(3), object(2)\n",
      "memory usage: 875.9+ KB\n"
     ]
    }
   ],
   "source": [
    "OxCGRT_df.info()"
   ]
  },
  {
   "cell_type": "markdown",
   "metadata": {},
   "source": [
    "There are missing values in the ConfirmedCases and ConfirmedDeaths columns. These will be handled later."
   ]
  },
  {
   "cell_type": "markdown",
   "metadata": {},
   "source": [
    "Create a new dataframe by merging the two dataframes. "
   ]
  },
  {
   "cell_type": "code",
   "execution_count": 12,
   "metadata": {},
   "outputs": [],
   "source": [
    "OxCGRT_cont_df = OxCGRT_df.merge(country_continent, left_on = ['CountryCode'], right_on = ['CountryCode'], how = 'left')"
   ]
  },
  {
   "cell_type": "code",
   "execution_count": 13,
   "metadata": {},
   "outputs": [
    {
     "data": {
      "text/html": [
       "<div>\n",
       "<style scoped>\n",
       "    .dataframe tbody tr th:only-of-type {\n",
       "        vertical-align: middle;\n",
       "    }\n",
       "\n",
       "    .dataframe tbody tr th {\n",
       "        vertical-align: top;\n",
       "    }\n",
       "\n",
       "    .dataframe thead th {\n",
       "        text-align: right;\n",
       "    }\n",
       "</style>\n",
       "<table border=\"1\" class=\"dataframe\">\n",
       "  <thead>\n",
       "    <tr style=\"text-align: right;\">\n",
       "      <th></th>\n",
       "      <th>CountryName</th>\n",
       "      <th>CountryCode</th>\n",
       "      <th>Date</th>\n",
       "      <th>School closing</th>\n",
       "      <th>Stay at home requirements</th>\n",
       "      <th>ConfirmedCases</th>\n",
       "      <th>ConfirmedDeaths</th>\n",
       "      <th>StringencyIndex</th>\n",
       "      <th>Continent_Name</th>\n",
       "    </tr>\n",
       "  </thead>\n",
       "  <tbody>\n",
       "    <tr>\n",
       "      <th>0</th>\n",
       "      <td>Aruba</td>\n",
       "      <td>ABW</td>\n",
       "      <td>20200301</td>\n",
       "      <td>0</td>\n",
       "      <td>0</td>\n",
       "      <td>NaN</td>\n",
       "      <td>NaN</td>\n",
       "      <td>0.0</td>\n",
       "      <td>North America</td>\n",
       "    </tr>\n",
       "    <tr>\n",
       "      <th>1</th>\n",
       "      <td>Aruba</td>\n",
       "      <td>ABW</td>\n",
       "      <td>20200302</td>\n",
       "      <td>0</td>\n",
       "      <td>0</td>\n",
       "      <td>NaN</td>\n",
       "      <td>NaN</td>\n",
       "      <td>0.0</td>\n",
       "      <td>North America</td>\n",
       "    </tr>\n",
       "    <tr>\n",
       "      <th>2</th>\n",
       "      <td>Aruba</td>\n",
       "      <td>ABW</td>\n",
       "      <td>20200303</td>\n",
       "      <td>0</td>\n",
       "      <td>0</td>\n",
       "      <td>NaN</td>\n",
       "      <td>NaN</td>\n",
       "      <td>0.0</td>\n",
       "      <td>North America</td>\n",
       "    </tr>\n",
       "    <tr>\n",
       "      <th>3</th>\n",
       "      <td>Aruba</td>\n",
       "      <td>ABW</td>\n",
       "      <td>20200304</td>\n",
       "      <td>0</td>\n",
       "      <td>0</td>\n",
       "      <td>NaN</td>\n",
       "      <td>NaN</td>\n",
       "      <td>0.0</td>\n",
       "      <td>North America</td>\n",
       "    </tr>\n",
       "    <tr>\n",
       "      <th>4</th>\n",
       "      <td>Aruba</td>\n",
       "      <td>ABW</td>\n",
       "      <td>20200305</td>\n",
       "      <td>0</td>\n",
       "      <td>0</td>\n",
       "      <td>NaN</td>\n",
       "      <td>NaN</td>\n",
       "      <td>0.0</td>\n",
       "      <td>North America</td>\n",
       "    </tr>\n",
       "  </tbody>\n",
       "</table>\n",
       "</div>"
      ],
      "text/plain": [
       "  CountryName CountryCode      Date  School closing  \\\n",
       "0       Aruba         ABW  20200301               0   \n",
       "1       Aruba         ABW  20200302               0   \n",
       "2       Aruba         ABW  20200303               0   \n",
       "3       Aruba         ABW  20200304               0   \n",
       "4       Aruba         ABW  20200305               0   \n",
       "\n",
       "   Stay at home requirements  ConfirmedCases  ConfirmedDeaths  \\\n",
       "0                          0             NaN              NaN   \n",
       "1                          0             NaN              NaN   \n",
       "2                          0             NaN              NaN   \n",
       "3                          0             NaN              NaN   \n",
       "4                          0             NaN              NaN   \n",
       "\n",
       "   StringencyIndex Continent_Name  \n",
       "0              0.0  North America  \n",
       "1              0.0  North America  \n",
       "2              0.0  North America  \n",
       "3              0.0  North America  \n",
       "4              0.0  North America  "
      ]
     },
     "execution_count": 13,
     "metadata": {},
     "output_type": "execute_result"
    }
   ],
   "source": [
    "OxCGRT_cont_df.head()"
   ]
  },
  {
   "cell_type": "markdown",
   "metadata": {},
   "source": [
    "After the merge there are 14499 records, prior to the merge there were 14013. Therefore, some duplication occurred during the merge, this is due to the transcontinental countries, as stated in the question no action was taken for these multiple entries."
   ]
  },
  {
   "cell_type": "code",
   "execution_count": 14,
   "metadata": {},
   "outputs": [
    {
     "name": "stdout",
     "output_type": "stream",
     "text": [
      "<class 'pandas.core.frame.DataFrame'>\n",
      "Int64Index: 14499 entries, 0 to 14498\n",
      "Data columns (total 9 columns):\n",
      " #   Column                     Non-Null Count  Dtype  \n",
      "---  ------                     --------------  -----  \n",
      " 0   CountryName                14499 non-null  object \n",
      " 1   CountryCode                14499 non-null  object \n",
      " 2   Date                       14499 non-null  int64  \n",
      " 3   School closing             14499 non-null  int64  \n",
      " 4   Stay at home requirements  14499 non-null  int64  \n",
      " 5   ConfirmedCases             12348 non-null  float64\n",
      " 6   ConfirmedDeaths            12348 non-null  float64\n",
      " 7   StringencyIndex            14499 non-null  float64\n",
      " 8   Continent_Name             14418 non-null  object \n",
      "dtypes: float64(3), int64(3), object(3)\n",
      "memory usage: 1.1+ MB\n"
     ]
    }
   ],
   "source": [
    "OxCGRT_cont_df.info()"
   ]
  },
  {
   "cell_type": "markdown",
   "metadata": {},
   "source": [
    "Determine the country with missing continent name"
   ]
  },
  {
   "cell_type": "code",
   "execution_count": 15,
   "metadata": {},
   "outputs": [
    {
     "name": "stdout",
     "output_type": "stream",
     "text": [
      "['Kosovo']\n"
     ]
    }
   ],
   "source": [
    "print((OxCGRT_cont_df.loc[OxCGRT_cont_df.Continent_Name.isnull()].CountryName).unique())"
   ]
  },
  {
   "cell_type": "markdown",
   "metadata": {},
   "source": [
    "Kosovo is a European country. Determine the syntax and spelling of Europe in the continent name column"
   ]
  },
  {
   "cell_type": "code",
   "execution_count": 16,
   "metadata": {},
   "outputs": [
    {
     "data": {
      "text/plain": [
       "array(['North America', 'Asia', 'Africa', 'Europe', 'South America',\n",
       "       'Oceania', nan], dtype=object)"
      ]
     },
     "execution_count": 16,
     "metadata": {},
     "output_type": "execute_result"
    }
   ],
   "source": [
    "OxCGRT_cont_df.Continent_Name.unique()"
   ]
  },
  {
   "cell_type": "markdown",
   "metadata": {},
   "source": [
    "Since only records with Kosovo have missing continent values, fill all NaN values in continent name column with 'Europe' "
   ]
  },
  {
   "cell_type": "code",
   "execution_count": 17,
   "metadata": {},
   "outputs": [],
   "source": [
    "OxCGRT_cont_df['Continent_Name'] = OxCGRT_cont_df.Continent_Name.fillna('Europe')"
   ]
  },
  {
   "cell_type": "markdown",
   "metadata": {},
   "source": [
    "Check if the nulls have been replaced successfully "
   ]
  },
  {
   "cell_type": "code",
   "execution_count": 18,
   "metadata": {},
   "outputs": [
    {
     "name": "stdout",
     "output_type": "stream",
     "text": [
      "<class 'pandas.core.frame.DataFrame'>\n",
      "Int64Index: 14499 entries, 0 to 14498\n",
      "Data columns (total 9 columns):\n",
      " #   Column                     Non-Null Count  Dtype  \n",
      "---  ------                     --------------  -----  \n",
      " 0   CountryName                14499 non-null  object \n",
      " 1   CountryCode                14499 non-null  object \n",
      " 2   Date                       14499 non-null  int64  \n",
      " 3   School closing             14499 non-null  int64  \n",
      " 4   Stay at home requirements  14499 non-null  int64  \n",
      " 5   ConfirmedCases             12348 non-null  float64\n",
      " 6   ConfirmedDeaths            12348 non-null  float64\n",
      " 7   StringencyIndex            14499 non-null  float64\n",
      " 8   Continent_Name             14499 non-null  object \n",
      "dtypes: float64(3), int64(3), object(3)\n",
      "memory usage: 1.1+ MB\n"
     ]
    }
   ],
   "source": [
    "OxCGRT_cont_df.info()"
   ]
  },
  {
   "cell_type": "code",
   "execution_count": null,
   "metadata": {},
   "outputs": [
    {
     "data": {
      "text/html": [
       "<div>\n",
       "<style scoped>\n",
       "    .dataframe tbody tr th:only-of-type {\n",
       "        vertical-align: middle;\n",
       "    }\n",
       "\n",
       "    .dataframe tbody tr th {\n",
       "        vertical-align: top;\n",
       "    }\n",
       "\n",
       "    .dataframe thead th {\n",
       "        text-align: right;\n",
       "    }\n",
       "</style>\n",
       "<table border=\"1\" class=\"dataframe\">\n",
       "  <thead>\n",
       "    <tr style=\"text-align: right;\">\n",
       "      <th></th>\n",
       "      <th>CountryName</th>\n",
       "      <th>CountryCode</th>\n",
       "      <th>Date</th>\n",
       "      <th>School closing</th>\n",
       "      <th>Stay at home requirements</th>\n",
       "      <th>ConfirmedCases</th>\n",
       "      <th>ConfirmedDeaths</th>\n",
       "      <th>StringencyIndex</th>\n",
       "      <th>Continent_Name</th>\n",
       "    </tr>\n",
       "  </thead>\n",
       "  <tbody>\n",
       "    <tr>\n",
       "      <th>5113</th>\n",
       "      <td>Kosovo</td>\n",
       "      <td>RKS</td>\n",
       "      <td>20200301</td>\n",
       "      <td>0</td>\n",
       "      <td>0</td>\n",
       "      <td>0.0</td>\n",
       "      <td>0.0</td>\n",
       "      <td>0.00</td>\n",
       "      <td>Europe</td>\n",
       "    </tr>\n",
       "    <tr>\n",
       "      <th>5114</th>\n",
       "      <td>Kosovo</td>\n",
       "      <td>RKS</td>\n",
       "      <td>20200302</td>\n",
       "      <td>0</td>\n",
       "      <td>0</td>\n",
       "      <td>0.0</td>\n",
       "      <td>0.0</td>\n",
       "      <td>0.00</td>\n",
       "      <td>Europe</td>\n",
       "    </tr>\n",
       "    <tr>\n",
       "      <th>5115</th>\n",
       "      <td>Kosovo</td>\n",
       "      <td>RKS</td>\n",
       "      <td>20200303</td>\n",
       "      <td>0</td>\n",
       "      <td>0</td>\n",
       "      <td>0.0</td>\n",
       "      <td>0.0</td>\n",
       "      <td>0.00</td>\n",
       "      <td>Europe</td>\n",
       "    </tr>\n",
       "    <tr>\n",
       "      <th>5116</th>\n",
       "      <td>Kosovo</td>\n",
       "      <td>RKS</td>\n",
       "      <td>20200304</td>\n",
       "      <td>0</td>\n",
       "      <td>0</td>\n",
       "      <td>0.0</td>\n",
       "      <td>0.0</td>\n",
       "      <td>0.00</td>\n",
       "      <td>Europe</td>\n",
       "    </tr>\n",
       "    <tr>\n",
       "      <th>5117</th>\n",
       "      <td>Kosovo</td>\n",
       "      <td>RKS</td>\n",
       "      <td>20200305</td>\n",
       "      <td>0</td>\n",
       "      <td>0</td>\n",
       "      <td>0.0</td>\n",
       "      <td>0.0</td>\n",
       "      <td>0.00</td>\n",
       "      <td>Europe</td>\n",
       "    </tr>\n",
       "    <tr>\n",
       "      <th>...</th>\n",
       "      <td>...</td>\n",
       "      <td>...</td>\n",
       "      <td>...</td>\n",
       "      <td>...</td>\n",
       "      <td>...</td>\n",
       "      <td>...</td>\n",
       "      <td>...</td>\n",
       "      <td>...</td>\n",
       "      <td>...</td>\n",
       "    </tr>\n",
       "    <tr>\n",
       "      <th>12826</th>\n",
       "      <td>Kosovo</td>\n",
       "      <td>RKS</td>\n",
       "      <td>20200516</td>\n",
       "      <td>3</td>\n",
       "      <td>2</td>\n",
       "      <td>944.0</td>\n",
       "      <td>29.0</td>\n",
       "      <td>96.43</td>\n",
       "      <td>Europe</td>\n",
       "    </tr>\n",
       "    <tr>\n",
       "      <th>12827</th>\n",
       "      <td>Kosovo</td>\n",
       "      <td>RKS</td>\n",
       "      <td>20200517</td>\n",
       "      <td>3</td>\n",
       "      <td>2</td>\n",
       "      <td>955.0</td>\n",
       "      <td>29.0</td>\n",
       "      <td>96.43</td>\n",
       "      <td>Europe</td>\n",
       "    </tr>\n",
       "    <tr>\n",
       "      <th>12828</th>\n",
       "      <td>Kosovo</td>\n",
       "      <td>RKS</td>\n",
       "      <td>20200518</td>\n",
       "      <td>3</td>\n",
       "      <td>2</td>\n",
       "      <td>955.0</td>\n",
       "      <td>29.0</td>\n",
       "      <td>91.67</td>\n",
       "      <td>Europe</td>\n",
       "    </tr>\n",
       "    <tr>\n",
       "      <th>12829</th>\n",
       "      <td>Kosovo</td>\n",
       "      <td>RKS</td>\n",
       "      <td>20200519</td>\n",
       "      <td>3</td>\n",
       "      <td>2</td>\n",
       "      <td>989.0</td>\n",
       "      <td>29.0</td>\n",
       "      <td>91.67</td>\n",
       "      <td>Europe</td>\n",
       "    </tr>\n",
       "    <tr>\n",
       "      <th>12830</th>\n",
       "      <td>Kosovo</td>\n",
       "      <td>RKS</td>\n",
       "      <td>20200520</td>\n",
       "      <td>3</td>\n",
       "      <td>2</td>\n",
       "      <td>989.0</td>\n",
       "      <td>29.0</td>\n",
       "      <td>91.67</td>\n",
       "      <td>Europe</td>\n",
       "    </tr>\n",
       "  </tbody>\n",
       "</table>\n",
       "<p>81 rows × 9 columns</p>\n",
       "</div>"
      ],
      "text/plain": [
       "      CountryName CountryCode      Date  School closing  \\\n",
       "5113       Kosovo         RKS  20200301               0   \n",
       "5114       Kosovo         RKS  20200302               0   \n",
       "5115       Kosovo         RKS  20200303               0   \n",
       "5116       Kosovo         RKS  20200304               0   \n",
       "5117       Kosovo         RKS  20200305               0   \n",
       "...           ...         ...       ...             ...   \n",
       "12826      Kosovo         RKS  20200516               3   \n",
       "12827      Kosovo         RKS  20200517               3   \n",
       "12828      Kosovo         RKS  20200518               3   \n",
       "12829      Kosovo         RKS  20200519               3   \n",
       "12830      Kosovo         RKS  20200520               3   \n",
       "\n",
       "       Stay at home requirements  ConfirmedCases  ConfirmedDeaths  \\\n",
       "5113                           0             0.0              0.0   \n",
       "5114                           0             0.0              0.0   \n",
       "5115                           0             0.0              0.0   \n",
       "5116                           0             0.0              0.0   \n",
       "5117                           0             0.0              0.0   \n",
       "...                          ...             ...              ...   \n",
       "12826                          2           944.0             29.0   \n",
       "12827                          2           955.0             29.0   \n",
       "12828                          2           955.0             29.0   \n",
       "12829                          2           989.0             29.0   \n",
       "12830                          2           989.0             29.0   \n",
       "\n",
       "       StringencyIndex Continent_Name  \n",
       "5113              0.00         Europe  \n",
       "5114              0.00         Europe  \n",
       "5115              0.00         Europe  \n",
       "5116              0.00         Europe  \n",
       "5117              0.00         Europe  \n",
       "...                ...            ...  \n",
       "12826            96.43         Europe  \n",
       "12827            96.43         Europe  \n",
       "12828            91.67         Europe  \n",
       "12829            91.67         Europe  \n",
       "12830            91.67         Europe  \n",
       "\n",
       "[81 rows x 9 columns]"
      ]
     },
     "execution_count": 19,
     "metadata": {},
     "output_type": "execute_result"
    }
   ],
   "source": [
    "OxCGRT_cont_df.loc[OxCGRT_cont_df.CountryName == 'Kosovo']"
   ]
  },
  {
   "cell_type": "markdown",
   "metadata": {},
   "source": [
    "### Handle missing values"
   ]
  },
  {
   "cell_type": "markdown",
   "metadata": {},
   "source": [
    "Determine the number of missing values in confirmed cases column"
   ]
  },
  {
   "cell_type": "code",
   "execution_count": null,
   "metadata": {},
   "outputs": [
    {
     "data": {
      "text/plain": [
       "(2151, 9)"
      ]
     },
     "execution_count": 20,
     "metadata": {},
     "output_type": "execute_result"
    }
   ],
   "source": [
    "OxCGRT_cont_df.loc[OxCGRT_cont_df.ConfirmedCases.isnull()].shape"
   ]
  },
  {
   "cell_type": "markdown",
   "metadata": {},
   "source": [
    "Determine the number of missing values in confirmed deaths column"
   ]
  },
  {
   "cell_type": "code",
   "execution_count": null,
   "metadata": {},
   "outputs": [
    {
     "data": {
      "text/plain": [
       "(2151, 9)"
      ]
     },
     "execution_count": 21,
     "metadata": {},
     "output_type": "execute_result"
    }
   ],
   "source": [
    "OxCGRT_cont_df.loc[OxCGRT_cont_df.ConfirmedDeaths.isnull()].shape"
   ]
  },
  {
   "cell_type": "markdown",
   "metadata": {},
   "source": [
    "The confirmed cases and confirmed deaths appear to be missing for the same records. The data is missing across countries and dates."
   ]
  },
  {
   "cell_type": "code",
   "execution_count": null,
   "metadata": {},
   "outputs": [
    {
     "data": {
      "text/html": [
       "<div>\n",
       "<style scoped>\n",
       "    .dataframe tbody tr th:only-of-type {\n",
       "        vertical-align: middle;\n",
       "    }\n",
       "\n",
       "    .dataframe tbody tr th {\n",
       "        vertical-align: top;\n",
       "    }\n",
       "\n",
       "    .dataframe thead th {\n",
       "        text-align: right;\n",
       "    }\n",
       "</style>\n",
       "<table border=\"1\" class=\"dataframe\">\n",
       "  <thead>\n",
       "    <tr style=\"text-align: right;\">\n",
       "      <th></th>\n",
       "      <th>CountryName</th>\n",
       "      <th>CountryCode</th>\n",
       "      <th>Date</th>\n",
       "      <th>School closing</th>\n",
       "      <th>Stay at home requirements</th>\n",
       "      <th>ConfirmedCases</th>\n",
       "      <th>ConfirmedDeaths</th>\n",
       "      <th>StringencyIndex</th>\n",
       "      <th>Continent_Name</th>\n",
       "    </tr>\n",
       "  </thead>\n",
       "  <tbody>\n",
       "    <tr>\n",
       "      <th>0</th>\n",
       "      <td>Aruba</td>\n",
       "      <td>ABW</td>\n",
       "      <td>20200301</td>\n",
       "      <td>0</td>\n",
       "      <td>0</td>\n",
       "      <td>NaN</td>\n",
       "      <td>NaN</td>\n",
       "      <td>0.00</td>\n",
       "      <td>North America</td>\n",
       "    </tr>\n",
       "    <tr>\n",
       "      <th>1</th>\n",
       "      <td>Aruba</td>\n",
       "      <td>ABW</td>\n",
       "      <td>20200302</td>\n",
       "      <td>0</td>\n",
       "      <td>0</td>\n",
       "      <td>NaN</td>\n",
       "      <td>NaN</td>\n",
       "      <td>0.00</td>\n",
       "      <td>North America</td>\n",
       "    </tr>\n",
       "    <tr>\n",
       "      <th>2</th>\n",
       "      <td>Aruba</td>\n",
       "      <td>ABW</td>\n",
       "      <td>20200303</td>\n",
       "      <td>0</td>\n",
       "      <td>0</td>\n",
       "      <td>NaN</td>\n",
       "      <td>NaN</td>\n",
       "      <td>0.00</td>\n",
       "      <td>North America</td>\n",
       "    </tr>\n",
       "    <tr>\n",
       "      <th>3</th>\n",
       "      <td>Aruba</td>\n",
       "      <td>ABW</td>\n",
       "      <td>20200304</td>\n",
       "      <td>0</td>\n",
       "      <td>0</td>\n",
       "      <td>NaN</td>\n",
       "      <td>NaN</td>\n",
       "      <td>0.00</td>\n",
       "      <td>North America</td>\n",
       "    </tr>\n",
       "    <tr>\n",
       "      <th>4</th>\n",
       "      <td>Aruba</td>\n",
       "      <td>ABW</td>\n",
       "      <td>20200305</td>\n",
       "      <td>0</td>\n",
       "      <td>0</td>\n",
       "      <td>NaN</td>\n",
       "      <td>NaN</td>\n",
       "      <td>0.00</td>\n",
       "      <td>North America</td>\n",
       "    </tr>\n",
       "    <tr>\n",
       "      <th>...</th>\n",
       "      <td>...</td>\n",
       "      <td>...</td>\n",
       "      <td>...</td>\n",
       "      <td>...</td>\n",
       "      <td>...</td>\n",
       "      <td>...</td>\n",
       "      <td>...</td>\n",
       "      <td>...</td>\n",
       "      <td>...</td>\n",
       "    </tr>\n",
       "    <tr>\n",
       "      <th>11743</th>\n",
       "      <td>Rwanda</td>\n",
       "      <td>RWA</td>\n",
       "      <td>20200314</td>\n",
       "      <td>0</td>\n",
       "      <td>2</td>\n",
       "      <td>NaN</td>\n",
       "      <td>NaN</td>\n",
       "      <td>45.95</td>\n",
       "      <td>Africa</td>\n",
       "    </tr>\n",
       "    <tr>\n",
       "      <th>11840</th>\n",
       "      <td>Solomon Islands</td>\n",
       "      <td>SLB</td>\n",
       "      <td>20200520</td>\n",
       "      <td>2</td>\n",
       "      <td>2</td>\n",
       "      <td>NaN</td>\n",
       "      <td>NaN</td>\n",
       "      <td>61.90</td>\n",
       "      <td>Oceania</td>\n",
       "    </tr>\n",
       "    <tr>\n",
       "      <th>12537</th>\n",
       "      <td>Venezuela</td>\n",
       "      <td>VEN</td>\n",
       "      <td>20200313</td>\n",
       "      <td>0</td>\n",
       "      <td>2</td>\n",
       "      <td>NaN</td>\n",
       "      <td>NaN</td>\n",
       "      <td>53.57</td>\n",
       "      <td>South America</td>\n",
       "    </tr>\n",
       "    <tr>\n",
       "      <th>12538</th>\n",
       "      <td>Venezuela</td>\n",
       "      <td>VEN</td>\n",
       "      <td>20200314</td>\n",
       "      <td>0</td>\n",
       "      <td>2</td>\n",
       "      <td>NaN</td>\n",
       "      <td>NaN</td>\n",
       "      <td>53.57</td>\n",
       "      <td>South America</td>\n",
       "    </tr>\n",
       "    <tr>\n",
       "      <th>13540</th>\n",
       "      <td>Jamaica</td>\n",
       "      <td>JAM</td>\n",
       "      <td>20200315</td>\n",
       "      <td>3</td>\n",
       "      <td>3</td>\n",
       "      <td>NaN</td>\n",
       "      <td>NaN</td>\n",
       "      <td>64.29</td>\n",
       "      <td>North America</td>\n",
       "    </tr>\n",
       "  </tbody>\n",
       "</table>\n",
       "<p>2151 rows × 9 columns</p>\n",
       "</div>"
      ],
      "text/plain": [
       "           CountryName CountryCode      Date  School closing  \\\n",
       "0                Aruba         ABW  20200301               0   \n",
       "1                Aruba         ABW  20200302               0   \n",
       "2                Aruba         ABW  20200303               0   \n",
       "3                Aruba         ABW  20200304               0   \n",
       "4                Aruba         ABW  20200305               0   \n",
       "...                ...         ...       ...             ...   \n",
       "11743           Rwanda         RWA  20200314               0   \n",
       "11840  Solomon Islands         SLB  20200520               2   \n",
       "12537        Venezuela         VEN  20200313               0   \n",
       "12538        Venezuela         VEN  20200314               0   \n",
       "13540          Jamaica         JAM  20200315               3   \n",
       "\n",
       "       Stay at home requirements  ConfirmedCases  ConfirmedDeaths  \\\n",
       "0                              0             NaN              NaN   \n",
       "1                              0             NaN              NaN   \n",
       "2                              0             NaN              NaN   \n",
       "3                              0             NaN              NaN   \n",
       "4                              0             NaN              NaN   \n",
       "...                          ...             ...              ...   \n",
       "11743                          2             NaN              NaN   \n",
       "11840                          2             NaN              NaN   \n",
       "12537                          2             NaN              NaN   \n",
       "12538                          2             NaN              NaN   \n",
       "13540                          3             NaN              NaN   \n",
       "\n",
       "       StringencyIndex Continent_Name  \n",
       "0                 0.00  North America  \n",
       "1                 0.00  North America  \n",
       "2                 0.00  North America  \n",
       "3                 0.00  North America  \n",
       "4                 0.00  North America  \n",
       "...                ...            ...  \n",
       "11743            45.95         Africa  \n",
       "11840            61.90        Oceania  \n",
       "12537            53.57  South America  \n",
       "12538            53.57  South America  \n",
       "13540            64.29  North America  \n",
       "\n",
       "[2151 rows x 9 columns]"
      ]
     },
     "execution_count": 22,
     "metadata": {},
     "output_type": "execute_result"
    }
   ],
   "source": [
    "OxCGRT_cont_df.loc[OxCGRT_cont_df.ConfirmedDeaths.isnull()]"
   ]
  },
  {
   "cell_type": "markdown",
   "metadata": {},
   "source": [
    "Create a dataframe displaying the count of records per country"
   ]
  },
  {
   "cell_type": "code",
   "execution_count": null,
   "metadata": {},
   "outputs": [
    {
     "data": {
      "text/html": [
       "<div>\n",
       "<style scoped>\n",
       "    .dataframe tbody tr th:only-of-type {\n",
       "        vertical-align: middle;\n",
       "    }\n",
       "\n",
       "    .dataframe tbody tr th {\n",
       "        vertical-align: top;\n",
       "    }\n",
       "\n",
       "    .dataframe thead th {\n",
       "        text-align: right;\n",
       "    }\n",
       "</style>\n",
       "<table border=\"1\" class=\"dataframe\">\n",
       "  <thead>\n",
       "    <tr style=\"text-align: right;\">\n",
       "      <th></th>\n",
       "      <th>CountryCode</th>\n",
       "      <th>Total_count</th>\n",
       "    </tr>\n",
       "  </thead>\n",
       "  <tbody>\n",
       "    <tr>\n",
       "      <th>0</th>\n",
       "      <td>ABW</td>\n",
       "      <td>81</td>\n",
       "    </tr>\n",
       "    <tr>\n",
       "      <th>1</th>\n",
       "      <td>AFG</td>\n",
       "      <td>81</td>\n",
       "    </tr>\n",
       "    <tr>\n",
       "      <th>2</th>\n",
       "      <td>AGO</td>\n",
       "      <td>81</td>\n",
       "    </tr>\n",
       "    <tr>\n",
       "      <th>3</th>\n",
       "      <td>ALB</td>\n",
       "      <td>81</td>\n",
       "    </tr>\n",
       "    <tr>\n",
       "      <th>4</th>\n",
       "      <td>AND</td>\n",
       "      <td>81</td>\n",
       "    </tr>\n",
       "    <tr>\n",
       "      <th>...</th>\n",
       "      <td>...</td>\n",
       "      <td>...</td>\n",
       "    </tr>\n",
       "    <tr>\n",
       "      <th>168</th>\n",
       "      <td>VNM</td>\n",
       "      <td>81</td>\n",
       "    </tr>\n",
       "    <tr>\n",
       "      <th>169</th>\n",
       "      <td>YEM</td>\n",
       "      <td>81</td>\n",
       "    </tr>\n",
       "    <tr>\n",
       "      <th>170</th>\n",
       "      <td>ZAF</td>\n",
       "      <td>81</td>\n",
       "    </tr>\n",
       "    <tr>\n",
       "      <th>171</th>\n",
       "      <td>ZMB</td>\n",
       "      <td>81</td>\n",
       "    </tr>\n",
       "    <tr>\n",
       "      <th>172</th>\n",
       "      <td>ZWE</td>\n",
       "      <td>81</td>\n",
       "    </tr>\n",
       "  </tbody>\n",
       "</table>\n",
       "<p>173 rows × 2 columns</p>\n",
       "</div>"
      ],
      "text/plain": [
       "    CountryCode  Total_count\n",
       "0           ABW           81\n",
       "1           AFG           81\n",
       "2           AGO           81\n",
       "3           ALB           81\n",
       "4           AND           81\n",
       "..          ...          ...\n",
       "168         VNM           81\n",
       "169         YEM           81\n",
       "170         ZAF           81\n",
       "171         ZMB           81\n",
       "172         ZWE           81\n",
       "\n",
       "[173 rows x 2 columns]"
      ]
     },
     "execution_count": 23,
     "metadata": {},
     "output_type": "execute_result"
    }
   ],
   "source": [
    "total_record_count_df = OxCGRT_cont_df.groupby(['CountryCode'])[['Date']].count().reset_index().rename(columns = {'Date':'Total_count'})\n",
    "total_record_count_df"
   ]
  },
  {
   "cell_type": "markdown",
   "metadata": {},
   "source": [
    "Create a dataframe displaying the count of missing values per country"
   ]
  },
  {
   "cell_type": "code",
   "execution_count": null,
   "metadata": {},
   "outputs": [
    {
     "data": {
      "text/html": [
       "<div>\n",
       "<style scoped>\n",
       "    .dataframe tbody tr th:only-of-type {\n",
       "        vertical-align: middle;\n",
       "    }\n",
       "\n",
       "    .dataframe tbody tr th {\n",
       "        vertical-align: top;\n",
       "    }\n",
       "\n",
       "    .dataframe thead th {\n",
       "        text-align: right;\n",
       "    }\n",
       "</style>\n",
       "<table border=\"1\" class=\"dataframe\">\n",
       "  <thead>\n",
       "    <tr style=\"text-align: right;\">\n",
       "      <th></th>\n",
       "      <th>CountryCode</th>\n",
       "      <th>Missing_count</th>\n",
       "    </tr>\n",
       "  </thead>\n",
       "  <tbody>\n",
       "    <tr>\n",
       "      <th>0</th>\n",
       "      <td>ABW</td>\n",
       "      <td>22</td>\n",
       "    </tr>\n",
       "    <tr>\n",
       "      <th>1</th>\n",
       "      <td>AFG</td>\n",
       "      <td>10</td>\n",
       "    </tr>\n",
       "    <tr>\n",
       "      <th>2</th>\n",
       "      <td>AGO</td>\n",
       "      <td>21</td>\n",
       "    </tr>\n",
       "    <tr>\n",
       "      <th>3</th>\n",
       "      <td>ALB</td>\n",
       "      <td>8</td>\n",
       "    </tr>\n",
       "    <tr>\n",
       "      <th>4</th>\n",
       "      <td>AND</td>\n",
       "      <td>13</td>\n",
       "    </tr>\n",
       "    <tr>\n",
       "      <th>...</th>\n",
       "      <td>...</td>\n",
       "      <td>...</td>\n",
       "    </tr>\n",
       "    <tr>\n",
       "      <th>141</th>\n",
       "      <td>VNM</td>\n",
       "      <td>4</td>\n",
       "    </tr>\n",
       "    <tr>\n",
       "      <th>142</th>\n",
       "      <td>YEM</td>\n",
       "      <td>40</td>\n",
       "    </tr>\n",
       "    <tr>\n",
       "      <th>143</th>\n",
       "      <td>ZAF</td>\n",
       "      <td>7</td>\n",
       "    </tr>\n",
       "    <tr>\n",
       "      <th>144</th>\n",
       "      <td>ZMB</td>\n",
       "      <td>18</td>\n",
       "    </tr>\n",
       "    <tr>\n",
       "      <th>145</th>\n",
       "      <td>ZWE</td>\n",
       "      <td>20</td>\n",
       "    </tr>\n",
       "  </tbody>\n",
       "</table>\n",
       "<p>146 rows × 2 columns</p>\n",
       "</div>"
      ],
      "text/plain": [
       "    CountryCode  Missing_count\n",
       "0           ABW             22\n",
       "1           AFG             10\n",
       "2           AGO             21\n",
       "3           ALB              8\n",
       "4           AND             13\n",
       "..          ...            ...\n",
       "141         VNM              4\n",
       "142         YEM             40\n",
       "143         ZAF              7\n",
       "144         ZMB             18\n",
       "145         ZWE             20\n",
       "\n",
       "[146 rows x 2 columns]"
      ]
     },
     "execution_count": 24,
     "metadata": {},
     "output_type": "execute_result"
    }
   ],
   "source": [
    "total_missin_count_df = OxCGRT_cont_df.loc[OxCGRT_cont_df.ConfirmedCases.isnull()].groupby(['CountryCode'])[['Date']].count().reset_index().rename(columns = {'Date':'Missing_count'})\n",
    "total_missin_count_df "
   ]
  },
  {
   "cell_type": "markdown",
   "metadata": {},
   "source": [
    "Merge the two dataframes and create a new column showing the percentage of missing values"
   ]
  },
  {
   "cell_type": "code",
   "execution_count": null,
   "metadata": {},
   "outputs": [],
   "source": [
    "missing_values_df = total_record_count_df.merge(total_missin_count_df, left_on = ['CountryCode'], right_on = ['CountryCode'])"
   ]
  },
  {
   "cell_type": "code",
   "execution_count": null,
   "metadata": {},
   "outputs": [],
   "source": [
    "missing_values_df['percent_missing'] = missing_values_df.Missing_count / missing_values_df.Total_count"
   ]
  },
  {
   "cell_type": "code",
   "execution_count": null,
   "metadata": {
    "scrolled": false
   },
   "outputs": [
    {
     "data": {
      "text/html": [
       "<div>\n",
       "<style scoped>\n",
       "    .dataframe tbody tr th:only-of-type {\n",
       "        vertical-align: middle;\n",
       "    }\n",
       "\n",
       "    .dataframe tbody tr th {\n",
       "        vertical-align: top;\n",
       "    }\n",
       "\n",
       "    .dataframe thead th {\n",
       "        text-align: right;\n",
       "    }\n",
       "</style>\n",
       "<table border=\"1\" class=\"dataframe\">\n",
       "  <thead>\n",
       "    <tr style=\"text-align: right;\">\n",
       "      <th></th>\n",
       "      <th>CountryCode</th>\n",
       "      <th>Total_count</th>\n",
       "      <th>Missing_count</th>\n",
       "      <th>percent_missing</th>\n",
       "    </tr>\n",
       "  </thead>\n",
       "  <tbody>\n",
       "    <tr>\n",
       "      <th>113</th>\n",
       "      <td>SLB</td>\n",
       "      <td>81</td>\n",
       "      <td>81</td>\n",
       "      <td>1.000000</td>\n",
       "    </tr>\n",
       "    <tr>\n",
       "      <th>129</th>\n",
       "      <td>TKM</td>\n",
       "      <td>81</td>\n",
       "      <td>81</td>\n",
       "      <td>1.000000</td>\n",
       "    </tr>\n",
       "    <tr>\n",
       "      <th>75</th>\n",
       "      <td>LSO</td>\n",
       "      <td>81</td>\n",
       "      <td>75</td>\n",
       "      <td>0.925926</td>\n",
       "    </tr>\n",
       "    <tr>\n",
       "      <th>128</th>\n",
       "      <td>TJK</td>\n",
       "      <td>81</td>\n",
       "      <td>61</td>\n",
       "      <td>0.753086</td>\n",
       "    </tr>\n",
       "    <tr>\n",
       "      <th>142</th>\n",
       "      <td>YEM</td>\n",
       "      <td>81</td>\n",
       "      <td>40</td>\n",
       "      <td>0.493827</td>\n",
       "    </tr>\n",
       "    <tr>\n",
       "      <th>...</th>\n",
       "      <td>...</td>\n",
       "      <td>...</td>\n",
       "      <td>...</td>\n",
       "      <td>...</td>\n",
       "    </tr>\n",
       "    <tr>\n",
       "      <th>104</th>\n",
       "      <td>PRT</td>\n",
       "      <td>81</td>\n",
       "      <td>2</td>\n",
       "      <td>0.024691</td>\n",
       "    </tr>\n",
       "    <tr>\n",
       "      <th>59</th>\n",
       "      <td>IND</td>\n",
       "      <td>81</td>\n",
       "      <td>1</td>\n",
       "      <td>0.012346</td>\n",
       "    </tr>\n",
       "    <tr>\n",
       "      <th>89</th>\n",
       "      <td>MYS</td>\n",
       "      <td>81</td>\n",
       "      <td>1</td>\n",
       "      <td>0.012346</td>\n",
       "    </tr>\n",
       "    <tr>\n",
       "      <th>116</th>\n",
       "      <td>SMR</td>\n",
       "      <td>81</td>\n",
       "      <td>1</td>\n",
       "      <td>0.012346</td>\n",
       "    </tr>\n",
       "    <tr>\n",
       "      <th>13</th>\n",
       "      <td>BHR</td>\n",
       "      <td>81</td>\n",
       "      <td>1</td>\n",
       "      <td>0.012346</td>\n",
       "    </tr>\n",
       "  </tbody>\n",
       "</table>\n",
       "<p>146 rows × 4 columns</p>\n",
       "</div>"
      ],
      "text/plain": [
       "    CountryCode  Total_count  Missing_count  percent_missing\n",
       "113         SLB           81             81         1.000000\n",
       "129         TKM           81             81         1.000000\n",
       "75          LSO           81             75         0.925926\n",
       "128         TJK           81             61         0.753086\n",
       "142         YEM           81             40         0.493827\n",
       "..          ...          ...            ...              ...\n",
       "104         PRT           81              2         0.024691\n",
       "59          IND           81              1         0.012346\n",
       "89          MYS           81              1         0.012346\n",
       "116         SMR           81              1         0.012346\n",
       "13          BHR           81              1         0.012346\n",
       "\n",
       "[146 rows x 4 columns]"
      ]
     },
     "execution_count": 27,
     "metadata": {},
     "output_type": "execute_result"
    }
   ],
   "source": [
    "missing_values_df.sort_values(['percent_missing'], ascending=False)"
   ]
  },
  {
   "cell_type": "markdown",
   "metadata": {},
   "source": [
    "Calculate the average percentage of missing value across the data."
   ]
  },
  {
   "cell_type": "code",
   "execution_count": null,
   "metadata": {},
   "outputs": [
    {
     "data": {
      "text/plain": [
       "0.17782851344495168"
      ]
     },
     "execution_count": 28,
     "metadata": {},
     "output_type": "execute_result"
    }
   ],
   "source": [
    "missing_values_df['percent_missing'].mean() "
   ]
  },
  {
   "cell_type": "code",
   "execution_count": null,
   "metadata": {},
   "outputs": [
    {
     "data": {
      "text/html": [
       "<div>\n",
       "<style scoped>\n",
       "    .dataframe tbody tr th:only-of-type {\n",
       "        vertical-align: middle;\n",
       "    }\n",
       "\n",
       "    .dataframe tbody tr th {\n",
       "        vertical-align: top;\n",
       "    }\n",
       "\n",
       "    .dataframe thead th {\n",
       "        text-align: right;\n",
       "    }\n",
       "</style>\n",
       "<table border=\"1\" class=\"dataframe\">\n",
       "  <thead>\n",
       "    <tr style=\"text-align: right;\">\n",
       "      <th></th>\n",
       "      <th>CountryName</th>\n",
       "      <th>CountryCode</th>\n",
       "      <th>Date</th>\n",
       "      <th>School closing</th>\n",
       "      <th>Stay at home requirements</th>\n",
       "      <th>ConfirmedCases</th>\n",
       "      <th>ConfirmedDeaths</th>\n",
       "      <th>StringencyIndex</th>\n",
       "      <th>Continent_Name</th>\n",
       "    </tr>\n",
       "  </thead>\n",
       "  <tbody>\n",
       "    <tr>\n",
       "      <th>0</th>\n",
       "      <td>Aruba</td>\n",
       "      <td>ABW</td>\n",
       "      <td>20200301</td>\n",
       "      <td>0</td>\n",
       "      <td>0</td>\n",
       "      <td>NaN</td>\n",
       "      <td>NaN</td>\n",
       "      <td>0.00</td>\n",
       "      <td>North America</td>\n",
       "    </tr>\n",
       "    <tr>\n",
       "      <th>1</th>\n",
       "      <td>Aruba</td>\n",
       "      <td>ABW</td>\n",
       "      <td>20200302</td>\n",
       "      <td>0</td>\n",
       "      <td>0</td>\n",
       "      <td>NaN</td>\n",
       "      <td>NaN</td>\n",
       "      <td>0.00</td>\n",
       "      <td>North America</td>\n",
       "    </tr>\n",
       "    <tr>\n",
       "      <th>2</th>\n",
       "      <td>Aruba</td>\n",
       "      <td>ABW</td>\n",
       "      <td>20200303</td>\n",
       "      <td>0</td>\n",
       "      <td>0</td>\n",
       "      <td>NaN</td>\n",
       "      <td>NaN</td>\n",
       "      <td>0.00</td>\n",
       "      <td>North America</td>\n",
       "    </tr>\n",
       "    <tr>\n",
       "      <th>3</th>\n",
       "      <td>Aruba</td>\n",
       "      <td>ABW</td>\n",
       "      <td>20200304</td>\n",
       "      <td>0</td>\n",
       "      <td>0</td>\n",
       "      <td>NaN</td>\n",
       "      <td>NaN</td>\n",
       "      <td>0.00</td>\n",
       "      <td>North America</td>\n",
       "    </tr>\n",
       "    <tr>\n",
       "      <th>4</th>\n",
       "      <td>Aruba</td>\n",
       "      <td>ABW</td>\n",
       "      <td>20200305</td>\n",
       "      <td>0</td>\n",
       "      <td>0</td>\n",
       "      <td>NaN</td>\n",
       "      <td>NaN</td>\n",
       "      <td>0.00</td>\n",
       "      <td>North America</td>\n",
       "    </tr>\n",
       "    <tr>\n",
       "      <th>...</th>\n",
       "      <td>...</td>\n",
       "      <td>...</td>\n",
       "      <td>...</td>\n",
       "      <td>...</td>\n",
       "      <td>...</td>\n",
       "      <td>...</td>\n",
       "      <td>...</td>\n",
       "      <td>...</td>\n",
       "      <td>...</td>\n",
       "    </tr>\n",
       "    <tr>\n",
       "      <th>7899</th>\n",
       "      <td>Aruba</td>\n",
       "      <td>ABW</td>\n",
       "      <td>20200519</td>\n",
       "      <td>0</td>\n",
       "      <td>2</td>\n",
       "      <td>101.0</td>\n",
       "      <td>3.0</td>\n",
       "      <td>50.00</td>\n",
       "      <td>North America</td>\n",
       "    </tr>\n",
       "    <tr>\n",
       "      <th>7900</th>\n",
       "      <td>Aruba</td>\n",
       "      <td>ABW</td>\n",
       "      <td>20200520</td>\n",
       "      <td>0</td>\n",
       "      <td>2</td>\n",
       "      <td>101.0</td>\n",
       "      <td>3.0</td>\n",
       "      <td>50.00</td>\n",
       "      <td>North America</td>\n",
       "    </tr>\n",
       "    <tr>\n",
       "      <th>12831</th>\n",
       "      <td>Aruba</td>\n",
       "      <td>ABW</td>\n",
       "      <td>20200410</td>\n",
       "      <td>3</td>\n",
       "      <td>3</td>\n",
       "      <td>82.0</td>\n",
       "      <td>0.0</td>\n",
       "      <td>82.14</td>\n",
       "      <td>North America</td>\n",
       "    </tr>\n",
       "    <tr>\n",
       "      <th>12832</th>\n",
       "      <td>Aruba</td>\n",
       "      <td>ABW</td>\n",
       "      <td>20200412</td>\n",
       "      <td>3</td>\n",
       "      <td>3</td>\n",
       "      <td>92.0</td>\n",
       "      <td>0.0</td>\n",
       "      <td>82.14</td>\n",
       "      <td>North America</td>\n",
       "    </tr>\n",
       "    <tr>\n",
       "      <th>12833</th>\n",
       "      <td>Aruba</td>\n",
       "      <td>ABW</td>\n",
       "      <td>20200413</td>\n",
       "      <td>3</td>\n",
       "      <td>3</td>\n",
       "      <td>92.0</td>\n",
       "      <td>0.0</td>\n",
       "      <td>82.14</td>\n",
       "      <td>North America</td>\n",
       "    </tr>\n",
       "  </tbody>\n",
       "</table>\n",
       "<p>81 rows × 9 columns</p>\n",
       "</div>"
      ],
      "text/plain": [
       "      CountryName CountryCode      Date  School closing  \\\n",
       "0           Aruba         ABW  20200301               0   \n",
       "1           Aruba         ABW  20200302               0   \n",
       "2           Aruba         ABW  20200303               0   \n",
       "3           Aruba         ABW  20200304               0   \n",
       "4           Aruba         ABW  20200305               0   \n",
       "...           ...         ...       ...             ...   \n",
       "7899        Aruba         ABW  20200519               0   \n",
       "7900        Aruba         ABW  20200520               0   \n",
       "12831       Aruba         ABW  20200410               3   \n",
       "12832       Aruba         ABW  20200412               3   \n",
       "12833       Aruba         ABW  20200413               3   \n",
       "\n",
       "       Stay at home requirements  ConfirmedCases  ConfirmedDeaths  \\\n",
       "0                              0             NaN              NaN   \n",
       "1                              0             NaN              NaN   \n",
       "2                              0             NaN              NaN   \n",
       "3                              0             NaN              NaN   \n",
       "4                              0             NaN              NaN   \n",
       "...                          ...             ...              ...   \n",
       "7899                           2           101.0              3.0   \n",
       "7900                           2           101.0              3.0   \n",
       "12831                          3            82.0              0.0   \n",
       "12832                          3            92.0              0.0   \n",
       "12833                          3            92.0              0.0   \n",
       "\n",
       "       StringencyIndex Continent_Name  \n",
       "0                 0.00  North America  \n",
       "1                 0.00  North America  \n",
       "2                 0.00  North America  \n",
       "3                 0.00  North America  \n",
       "4                 0.00  North America  \n",
       "...                ...            ...  \n",
       "7899             50.00  North America  \n",
       "7900             50.00  North America  \n",
       "12831            82.14  North America  \n",
       "12832            82.14  North America  \n",
       "12833            82.14  North America  \n",
       "\n",
       "[81 rows x 9 columns]"
      ]
     },
     "execution_count": 29,
     "metadata": {},
     "output_type": "execute_result"
    }
   ],
   "source": [
    "OxCGRT_cont_df.loc[OxCGRT_cont_df.CountryCode == 'ABW']"
   ]
  },
  {
   "cell_type": "markdown",
   "metadata": {},
   "source": [
    "Replace NaN in confirmed deaths columns with zero"
   ]
  },
  {
   "cell_type": "code",
   "execution_count": null,
   "metadata": {},
   "outputs": [],
   "source": [
    "OxCGRT_cont_df['ConfirmedDeaths'] = OxCGRT_cont_df.ConfirmedDeaths.fillna(0)"
   ]
  },
  {
   "cell_type": "markdown",
   "metadata": {},
   "source": [
    "Replace NaN in confirmed cases columns with zero"
   ]
  },
  {
   "cell_type": "code",
   "execution_count": null,
   "metadata": {},
   "outputs": [],
   "source": [
    "OxCGRT_cont_df['ConfirmedCases'] = OxCGRT_cont_df.ConfirmedCases.fillna(0)"
   ]
  },
  {
   "cell_type": "code",
   "execution_count": null,
   "metadata": {},
   "outputs": [
    {
     "name": "stdout",
     "output_type": "stream",
     "text": [
      "<class 'pandas.core.frame.DataFrame'>\n",
      "Int64Index: 14499 entries, 0 to 14498\n",
      "Data columns (total 9 columns):\n",
      " #   Column                     Non-Null Count  Dtype  \n",
      "---  ------                     --------------  -----  \n",
      " 0   CountryName                14499 non-null  object \n",
      " 1   CountryCode                14499 non-null  object \n",
      " 2   Date                       14499 non-null  int64  \n",
      " 3   School closing             14499 non-null  int64  \n",
      " 4   Stay at home requirements  14499 non-null  int64  \n",
      " 5   ConfirmedCases             14499 non-null  float64\n",
      " 6   ConfirmedDeaths            14499 non-null  float64\n",
      " 7   StringencyIndex            14499 non-null  float64\n",
      " 8   Continent_Name             14499 non-null  object \n",
      "dtypes: float64(3), int64(3), object(3)\n",
      "memory usage: 1.1+ MB\n"
     ]
    }
   ],
   "source": [
    "OxCGRT_cont_df.info()"
   ]
  },
  {
   "cell_type": "markdown",
   "metadata": {},
   "source": [
    "The animation_frame parameter of the px.scatter_geo function does not accept columns in date time formats. Therefore, the Date column is kept as an integer and the dataframe is ordered by date to ensure the geo map animation plays in chronological order."
   ]
  },
  {
   "cell_type": "code",
   "execution_count": null,
   "metadata": {},
   "outputs": [],
   "source": [
    "OxCGRT_cont_df = OxCGRT_cont_df.sort_values(['Date'], ascending=True)"
   ]
  },
  {
   "cell_type": "markdown",
   "metadata": {},
   "source": [
    "Create a list of dictionaries for the continents dropdown (scope)."
   ]
  },
  {
   "cell_type": "code",
   "execution_count": null,
   "metadata": {},
   "outputs": [
    {
     "data": {
      "text/plain": [
       "[{'label': 'World', 'value': 'World'},\n",
       " {'label': 'Asia', 'value': 'Asia'},\n",
       " {'label': 'Africa', 'value': 'Africa'},\n",
       " {'label': 'Europe', 'value': 'Europe'},\n",
       " {'label': 'North America', 'value': 'North America'},\n",
       " {'label': 'South America', 'value': 'South America'}]"
      ]
     },
     "execution_count": 34,
     "metadata": {},
     "output_type": "execute_result"
    }
   ],
   "source": [
    "continent_list = [{'label':'World', 'value': 'World'},\n",
    "                  {'label':'Asia', 'value': 'Asia'},\n",
    "                  {'label':'Africa', 'value': 'Africa'},\n",
    "                  {'label':'Europe', 'value': 'Europe'},\n",
    "                  {'label':'North America', 'value': 'North America'},\n",
    "                  {'label':'South America', 'value': 'South America'}\n",
    "                 ]\n",
    "\n",
    "continent_list"
   ]
  },
  {
   "cell_type": "markdown",
   "metadata": {},
   "source": [
    "Create a list of dictionaries for the data input dropdown. "
   ]
  },
  {
   "cell_type": "code",
   "execution_count": null,
   "metadata": {},
   "outputs": [
    {
     "data": {
      "text/plain": [
       "[{'label': 'Confirmed Cases', 'value': 'ConfirmedCases'},\n",
       " {'label': 'Confirmed Deaths', 'value': 'ConfirmedDeaths'},\n",
       " {'label': 'Stringency Index', 'value': 'StringencyIndex'}]"
      ]
     },
     "execution_count": 35,
     "metadata": {},
     "output_type": "execute_result"
    }
   ],
   "source": [
    "data_input_list = [{'label':'Confirmed Cases', 'value': 'ConfirmedCases'},\n",
    "                  {'label':'Confirmed Deaths', 'value': 'ConfirmedDeaths'},\n",
    "                  {'label':'Stringency Index', 'value': 'StringencyIndex'}\n",
    "                 ]\n",
    "\n",
    "data_input_list"
   ]
  },
  {
   "cell_type": "markdown",
   "metadata": {},
   "source": [
    "Create a list of dictionaries for the policies dropdown."
   ]
  },
  {
   "cell_type": "code",
   "execution_count": null,
   "metadata": {},
   "outputs": [
    {
     "data": {
      "text/plain": [
       "[{'label': 'Not selected (default)', 'value': 'Default'},\n",
       " {'label': 'School closing', 'value': 'School closing'},\n",
       " {'label': 'Staying at home', 'value': 'Stay at home requirements'}]"
      ]
     },
     "execution_count": 36,
     "metadata": {},
     "output_type": "execute_result"
    }
   ],
   "source": [
    "policies_list = [{'label':'Not selected (default)', 'value': 'Default'},\n",
    "                  {'label':'School closing', 'value': 'School closing'},\n",
    "                  {'label':'Staying at home', 'value': 'Stay at home requirements'}\n",
    "                 ]\n",
    "\n",
    "policies_list"
   ]
  },
  {
   "cell_type": "markdown",
   "metadata": {},
   "source": [
    "Create a new date column in datetime format for later use"
   ]
  },
  {
   "cell_type": "code",
   "execution_count": null,
   "metadata": {},
   "outputs": [],
   "source": [
    "OxCGRT_cont_df['Date_2'] = OxCGRT_cont_df.Date.map(lambda x: datetime.strptime(str(x),'%Y%m%d'))"
   ]
  },
  {
   "cell_type": "code",
   "execution_count": null,
   "metadata": {},
   "outputs": [
    {
     "name": "stdout",
     "output_type": "stream",
     "text": [
      "<class 'pandas.core.frame.DataFrame'>\n",
      "Int64Index: 14499 entries, 0 to 11454\n",
      "Data columns (total 10 columns):\n",
      " #   Column                     Non-Null Count  Dtype         \n",
      "---  ------                     --------------  -----         \n",
      " 0   CountryName                14499 non-null  object        \n",
      " 1   CountryCode                14499 non-null  object        \n",
      " 2   Date                       14499 non-null  int64         \n",
      " 3   School closing             14499 non-null  int64         \n",
      " 4   Stay at home requirements  14499 non-null  int64         \n",
      " 5   ConfirmedCases             14499 non-null  float64       \n",
      " 6   ConfirmedDeaths            14499 non-null  float64       \n",
      " 7   StringencyIndex            14499 non-null  float64       \n",
      " 8   Continent_Name             14499 non-null  object        \n",
      " 9   Date_2                     14499 non-null  datetime64[ns]\n",
      "dtypes: datetime64[ns](1), float64(3), int64(3), object(3)\n",
      "memory usage: 1.2+ MB\n"
     ]
    }
   ],
   "source": [
    "OxCGRT_cont_df.info()"
   ]
  },
  {
   "cell_type": "markdown",
   "metadata": {},
   "source": [
    "Create a dataframe for each of the following measures in the original dataframe:\n",
    "- Confirmed Cases\n",
    "- Confirmed Death\n",
    "- Stringency Index\n",
    "- School closing\n",
    "- Stay at home requirements\n",
    "\n",
    "To create the graphs that will be built using these dataframes a new column called KPI will be created to indicate the name of the measurement."
   ]
  },
  {
   "cell_type": "code",
   "execution_count": null,
   "metadata": {
    "scrolled": true
   },
   "outputs": [
    {
     "name": "stderr",
     "output_type": "stream",
     "text": [
      "C:\\Users\\nirun\\AppData\\Local\\Continuum\\anaconda3\\lib\\site-packages\\ipykernel_launcher.py:2: SettingWithCopyWarning: \n",
      "A value is trying to be set on a copy of a slice from a DataFrame.\n",
      "Try using .loc[row_indexer,col_indexer] = value instead\n",
      "\n",
      "See the caveats in the documentation: https://pandas.pydata.org/pandas-docs/stable/user_guide/indexing.html#returning-a-view-versus-a-copy\n",
      "  \n",
      "C:\\Users\\nirun\\AppData\\Local\\Continuum\\anaconda3\\lib\\site-packages\\ipykernel_launcher.py:3: SettingWithCopyWarning: \n",
      "A value is trying to be set on a copy of a slice from a DataFrame.\n",
      "Try using .loc[row_indexer,col_indexer] = value instead\n",
      "\n",
      "See the caveats in the documentation: https://pandas.pydata.org/pandas-docs/stable/user_guide/indexing.html#returning-a-view-versus-a-copy\n",
      "  This is separate from the ipykernel package so we can avoid doing imports until\n",
      "C:\\Users\\nirun\\AppData\\Local\\Continuum\\anaconda3\\lib\\site-packages\\ipykernel_launcher.py:7: SettingWithCopyWarning: \n",
      "A value is trying to be set on a copy of a slice from a DataFrame.\n",
      "Try using .loc[row_indexer,col_indexer] = value instead\n",
      "\n",
      "See the caveats in the documentation: https://pandas.pydata.org/pandas-docs/stable/user_guide/indexing.html#returning-a-view-versus-a-copy\n",
      "  import sys\n",
      "C:\\Users\\nirun\\AppData\\Local\\Continuum\\anaconda3\\lib\\site-packages\\ipykernel_launcher.py:8: SettingWithCopyWarning: \n",
      "A value is trying to be set on a copy of a slice from a DataFrame.\n",
      "Try using .loc[row_indexer,col_indexer] = value instead\n",
      "\n",
      "See the caveats in the documentation: https://pandas.pydata.org/pandas-docs/stable/user_guide/indexing.html#returning-a-view-versus-a-copy\n",
      "  \n",
      "C:\\Users\\nirun\\AppData\\Local\\Continuum\\anaconda3\\lib\\site-packages\\ipykernel_launcher.py:12: SettingWithCopyWarning: \n",
      "A value is trying to be set on a copy of a slice from a DataFrame.\n",
      "Try using .loc[row_indexer,col_indexer] = value instead\n",
      "\n",
      "See the caveats in the documentation: https://pandas.pydata.org/pandas-docs/stable/user_guide/indexing.html#returning-a-view-versus-a-copy\n",
      "  if sys.path[0] == '':\n",
      "C:\\Users\\nirun\\AppData\\Local\\Continuum\\anaconda3\\lib\\site-packages\\ipykernel_launcher.py:13: SettingWithCopyWarning: \n",
      "A value is trying to be set on a copy of a slice from a DataFrame.\n",
      "Try using .loc[row_indexer,col_indexer] = value instead\n",
      "\n",
      "See the caveats in the documentation: https://pandas.pydata.org/pandas-docs/stable/user_guide/indexing.html#returning-a-view-versus-a-copy\n",
      "  del sys.path[0]\n",
      "C:\\Users\\nirun\\AppData\\Local\\Continuum\\anaconda3\\lib\\site-packages\\ipykernel_launcher.py:17: SettingWithCopyWarning: \n",
      "A value is trying to be set on a copy of a slice from a DataFrame.\n",
      "Try using .loc[row_indexer,col_indexer] = value instead\n",
      "\n",
      "See the caveats in the documentation: https://pandas.pydata.org/pandas-docs/stable/user_guide/indexing.html#returning-a-view-versus-a-copy\n",
      "C:\\Users\\nirun\\AppData\\Local\\Continuum\\anaconda3\\lib\\site-packages\\ipykernel_launcher.py:18: SettingWithCopyWarning: \n",
      "A value is trying to be set on a copy of a slice from a DataFrame.\n",
      "Try using .loc[row_indexer,col_indexer] = value instead\n",
      "\n",
      "See the caveats in the documentation: https://pandas.pydata.org/pandas-docs/stable/user_guide/indexing.html#returning-a-view-versus-a-copy\n",
      "C:\\Users\\nirun\\AppData\\Local\\Continuum\\anaconda3\\lib\\site-packages\\ipykernel_launcher.py:22: SettingWithCopyWarning: \n",
      "A value is trying to be set on a copy of a slice from a DataFrame.\n",
      "Try using .loc[row_indexer,col_indexer] = value instead\n",
      "\n",
      "See the caveats in the documentation: https://pandas.pydata.org/pandas-docs/stable/user_guide/indexing.html#returning-a-view-versus-a-copy\n",
      "C:\\Users\\nirun\\AppData\\Local\\Continuum\\anaconda3\\lib\\site-packages\\ipykernel_launcher.py:23: SettingWithCopyWarning: \n",
      "A value is trying to be set on a copy of a slice from a DataFrame.\n",
      "Try using .loc[row_indexer,col_indexer] = value instead\n",
      "\n",
      "See the caveats in the documentation: https://pandas.pydata.org/pandas-docs/stable/user_guide/indexing.html#returning-a-view-versus-a-copy\n"
     ]
    }
   ],
   "source": [
    "cases_df = OxCGRT_cont_df[['CountryName','CountryCode','Continent_Name','Date','Date_2','ConfirmedCases']]\n",
    "cases_df['ContinentNamelower'] = cases_df.Continent_Name.str.lower()\n",
    "cases_df['KPI'] = 'Confirmed Cases'\n",
    "cases_df.columns = ['CountryName','CountryCode','Continent_Name','Date','Date_2','measure','ContinentNamelower','KPI']\n",
    "\n",
    "deaths_df = OxCGRT_cont_df[['CountryName','CountryCode','Continent_Name','Date','Date_2','ConfirmedDeaths']]\n",
    "deaths_df['ContinentNamelower'] = deaths_df.Continent_Name.str.lower()\n",
    "deaths_df['KPI'] = 'Confirmed Deaths'\n",
    "deaths_df.columns = ['CountryName','CountryCode','Continent_Name','Date','Date_2','measure','ContinentNamelower','KPI']\n",
    "\n",
    "stringency_df = OxCGRT_cont_df[['CountryName','CountryCode','Continent_Name','Date','Date_2','StringencyIndex']]\n",
    "stringency_df['ContinentNamelower'] = stringency_df.Continent_Name.str.lower()\n",
    "stringency_df['KPI'] = 'Stringency Index'\n",
    "stringency_df.columns = ['CountryName','CountryCode','Continent_Name','Date','Date_2','measure','ContinentNamelower','KPI']\n",
    "\n",
    "school_df = OxCGRT_cont_df[['CountryName','CountryCode','Continent_Name','Date','Date_2','School closing']]\n",
    "school_df['ContinentNamelower'] = school_df.Continent_Name.str.lower()\n",
    "school_df['KPI'] = 'School closing'\n",
    "school_df.columns = ['CountryName','CountryCode','Continent_Name','Date','Date_2','measure','ContinentNamelower','KPI']\n",
    "\n",
    "home_df = OxCGRT_cont_df[['CountryName','CountryCode','Continent_Name','Date','Date_2','Stay at home requirements']]\n",
    "home_df['ContinentNamelower'] = home_df.Continent_Name.str.lower()\n",
    "home_df['KPI'] = 'Stay at home requirements'\n",
    "home_df.columns = ['CountryName','CountryCode','Continent_Name','Date','Date_2','measure','ContinentNamelower','KPI']\n"
   ]
  },
  {
   "cell_type": "markdown",
   "metadata": {},
   "source": [
    "Create a function to produce the bubble world map. This function will be used to generate the bubble graph world map."
   ]
  },
  {
   "cell_type": "code",
   "execution_count": null,
   "metadata": {},
   "outputs": [],
   "source": [
    "def scatter_fig_def(df):\n",
    "\n",
    "    world_graph_fig = px.scatter_geo(df,\n",
    "                                     locations=\"CountryCode\",\n",
    "                                     color=\"Continent_Name\",\n",
    "                                     hover_name=\"CountryName\", \n",
    "                                     size= \"measure\", \n",
    "                                     size_max=25,\n",
    "                                     animation_frame=\"Date\",\n",
    "                                     projection=\"natural earth\",\n",
    "                                     title=df.KPI.unique().item() + \" in world\",\n",
    "                                     opacity=0.6) \n",
    "    \n",
    "    world_graph_fig.update_layout(height=600)\n",
    "    \n",
    "    \n",
    "    \n",
    "    return world_graph_fig\n"
   ]
  },
  {
   "cell_type": "markdown",
   "metadata": {},
   "source": [
    "Create a function to produce the bubble world map. This function will be used to generate the bubble graph for each continent."
   ]
  },
  {
   "cell_type": "code",
   "execution_count": null,
   "metadata": {},
   "outputs": [],
   "source": [
    "def scatter_scope_fig_def(df):\n",
    "\n",
    "    world_graph_fig = px.scatter_geo(df,\n",
    "                                     locations=\"CountryCode\",\n",
    "                                     color=\"Continent_Name\",\n",
    "                                     hover_name=\"CountryName\", \n",
    "                                     size= \"measure\", \n",
    "                                     size_max=25,\n",
    "                                     scope=df.ContinentNamelower.unique().item(), \n",
    "                                     animation_frame=\"Date\",\n",
    "                                     projection=\"natural earth\",\n",
    "                                     title=df.KPI.unique().item() + \" in \" + df.Continent_Name.unique().item(),\n",
    "                                     opacity=0.6) \n",
    "    \n",
    "    world_graph_fig.update_layout(height=600)\n",
    "    \n",
    "    \n",
    "    \n",
    "    return world_graph_fig\n"
   ]
  },
  {
   "cell_type": "markdown",
   "metadata": {},
   "source": [
    "Create a function to produce the choropleth graph. This function will be used to generate the choropleth graph world map."
   ]
  },
  {
   "cell_type": "code",
   "execution_count": null,
   "metadata": {},
   "outputs": [],
   "source": [
    "def chloreopath_fig_def(df):\n",
    "    \n",
    "    world_graph_fig = px.choropleth(df,\n",
    "                                    locations=\"CountryCode\",\n",
    "                                    color=\"measure\",\n",
    "                                    hover_name=\"CountryName\",\n",
    "                                    animation_frame=\"Date\",\n",
    "                                    title=df.KPI.unique().item() + \" in world\",\n",
    "                                    color_continuous_scale=px.colors.sequential.Plasma)\n",
    "\n",
    "    world_graph_fig.update_layout(height=600)\n",
    "    \n",
    "    \n",
    "    return world_graph_fig"
   ]
  },
  {
   "cell_type": "markdown",
   "metadata": {},
   "source": [
    "Create a function to produce the choropleth graph. This function will be used to generate the choropleth graph for each continent. "
   ]
  },
  {
   "cell_type": "code",
   "execution_count": null,
   "metadata": {},
   "outputs": [],
   "source": [
    "def chloreopath_scope_fig_def(df):\n",
    "    \n",
    "    world_graph_fig = px.choropleth(df,\n",
    "                                    locations=\"CountryCode\",\n",
    "                                    color=\"measure\",\n",
    "                                    hover_name=\"CountryName\",\n",
    "                                    animation_frame=\"Date\",\n",
    "                                    scope=df.ContinentNamelower.unique().item(), \n",
    "                                    title=df.KPI.unique().item() + \" in \" + df.Continent_Name.unique().item(),\n",
    "                                    color_continuous_scale=px.colors.sequential.Plasma)\n",
    "    \n",
    "    world_graph_fig.update_layout(height=600)\n",
    "   \n",
    "    return world_graph_fig"
   ]
  },
  {
   "cell_type": "markdown",
   "metadata": {},
   "source": [
    "Determine top 5 countries with highest confirmed cases"
   ]
  },
  {
   "cell_type": "code",
   "execution_count": null,
   "metadata": {},
   "outputs": [
    {
     "data": {
      "text/plain": [
       "array(['USA', 'RUS', 'BRA', 'GBR', 'ESP'], dtype=object)"
      ]
     },
     "execution_count": 44,
     "metadata": {},
     "output_type": "execute_result"
    }
   ],
   "source": [
    "top_five = OxCGRT_cont_df.loc[OxCGRT_cont_df.Date==20200520].nlargest(10, 'ConfirmedCases').CountryCode.unique()[:5]\n",
    "top_five"
   ]
  },
  {
   "cell_type": "markdown",
   "metadata": {},
   "source": [
    "Create a list for y axis labels"
   ]
  },
  {
   "cell_type": "code",
   "execution_count": null,
   "metadata": {},
   "outputs": [],
   "source": [
    "y_axis_integer = [0 , 1, 2, 3]\n",
    "\n",
    "school_description = ['no measures' , 'recommend closing' ,'require some closing' ,'require all closing']\n",
    "\n",
    "home_description = ['no measures', 'recommend not leaving house', 'require not leaving house (incl. exceptions)',  'require not leaving house (min exceptions)']"
   ]
  },
  {
   "cell_type": "markdown",
   "metadata": {},
   "source": [
    "Create a function to produce the line graph."
   ]
  },
  {
   "cell_type": "code",
   "execution_count": null,
   "metadata": {},
   "outputs": [],
   "source": [
    "def line_graph_def(df,policy):\n",
    "    \n",
    "    \n",
    "    \n",
    "    if policy ==  'School closing':\n",
    "        \n",
    "        line_graph = px.line(\n",
    "            df,\n",
    "            x=\"Date_2\", \n",
    "            y=\"measure\",\n",
    "            color=\"CountryName\",\n",
    "            #log_y=\"measure\",\n",
    "            title=df.KPI.unique().item()    )\n",
    "\n",
    "        line_graph.update_layout(\n",
    "\n",
    "            title=df.KPI.unique().item() + \" in the top five countries\",\n",
    "            yaxis_title=df.KPI.unique().item(),\n",
    "            height=600\n",
    "\n",
    "        )\n",
    "\n",
    "        line_graph.update_yaxes(\n",
    "            ticktext=school_description, \n",
    "            tickvals=y_axis_integer)  \n",
    "        return line_graph\n",
    "    \n",
    "    elif policy == 'Stay at home requirements':\n",
    "        \n",
    "        line_graph = px.line(\n",
    "            df,\n",
    "            x=\"Date_2\", \n",
    "            y=\"measure\",\n",
    "            color=\"CountryName\",\n",
    "            #log_y=\"measure\",\n",
    "            title=df.KPI.unique().item()    )\n",
    "\n",
    "        line_graph.update_layout(\n",
    "\n",
    "            title=df.KPI.unique().item() + \" in the top five countries\",\n",
    "            yaxis_title=df.KPI.unique().item(),\n",
    "            height=600\n",
    "\n",
    "        )\n",
    "\n",
    "        line_graph.update_yaxes(\n",
    "            ticktext=home_description, \n",
    "            tickvals=y_axis_integer)  \n",
    "        return line_graph\n",
    "\n",
    "    else:\n",
    "        \n",
    "        line_graph = px.line(\n",
    "            df,\n",
    "            x=\"Date_2\", \n",
    "            y=\"measure\",\n",
    "            color=\"CountryName\",\n",
    "            log_y=\"measure\",\n",
    "            title=df.KPI.unique().item()    )\n",
    "\n",
    "        line_graph.update_layout(\n",
    "\n",
    "            title=df.KPI.unique().item() + \" in the top five countries\",\n",
    "            yaxis_title=df.KPI.unique().item(),\n",
    "            height=600\n",
    "\n",
    "        )\n",
    "\n",
    "        return line_graph"
   ]
  },
  {
   "cell_type": "markdown",
   "metadata": {},
   "source": [
    "Reuse dash app from question 4 but with additional line graph"
   ]
  },
  {
   "cell_type": "code",
   "execution_count": null,
   "metadata": {
    "scrolled": true
   },
   "outputs": [
    {
     "name": "stdout",
     "output_type": "stream",
     "text": [
      "Dash is running on http://127.0.0.1:8050/\n",
      "\n",
      " Warning: This is a development server. Do not use app.run_server\n",
      " in production, use a production WSGI server like gunicorn instead.\n",
      "\n",
      " * Serving Flask app \"__main__\" (lazy loading)\n",
      " * Environment: production\n",
      "   WARNING: Do not use the development server in a production environment.\n",
      "   Use a production WSGI server instead.\n",
      " * Debug mode: off\n"
     ]
    },
    {
     "name": "stderr",
     "output_type": "stream",
     "text": [
      " * Running on http://127.0.0.1:8050/ (Press CTRL+C to quit)\n",
      "127.0.0.1 - - [27/Jul/2020 15:38:57] \"GET / HTTP/1.1\" 200 -\n",
      "127.0.0.1 - - [27/Jul/2020 15:38:57] \"GET /_dash-layout HTTP/1.1\" 200 -\n",
      "127.0.0.1 - - [27/Jul/2020 15:38:57] \"GET /_dash-dependencies HTTP/1.1\" 200 -\n",
      "127.0.0.1 - - [27/Jul/2020 15:38:59] \"POST /_dash-update-component HTTP/1.1\" 200 -\n",
      "127.0.0.1 - - [27/Jul/2020 15:39:00] \"POST /_dash-update-component HTTP/1.1\" 200 -\n",
      "127.0.0.1 - - [27/Jul/2020 15:39:09] \"POST /_dash-update-component HTTP/1.1\" 200 -\n",
      "127.0.0.1 - - [27/Jul/2020 15:39:11] \"POST /_dash-update-component HTTP/1.1\" 200 -\n",
      "127.0.0.1 - - [27/Jul/2020 15:39:11] \"POST /_dash-update-component HTTP/1.1\" 200 -\n",
      "127.0.0.1 - - [27/Jul/2020 15:39:11] \"POST /_dash-update-component HTTP/1.1\" 200 -\n",
      "127.0.0.1 - - [27/Jul/2020 15:39:13] \"POST /_dash-update-component HTTP/1.1\" 200 -\n",
      "127.0.0.1 - - [27/Jul/2020 15:39:14] \"POST /_dash-update-component HTTP/1.1\" 200 -\n",
      "127.0.0.1 - - [27/Jul/2020 15:39:14] \"POST /_dash-update-component HTTP/1.1\" 200 -\n"
     ]
    }
   ],
   "source": [
    "external_stylesheets = ['https://codepen.io/chriddyp/pen/bWLwgP.css']\n",
    "app = dash.Dash(__name__, external_stylesheets=external_stylesheets) \n",
    "\n",
    "app.layout = html.Div([\n",
    "    \n",
    "    \n",
    "    html.Div([\n",
    "        html.H1(\"Covid-19 World Dashboard\"),\n",
    "        html.P(\"An interactive dashboard demonstrating key covid-19 metrics. Report includes data from 01/03/2020 to 20/05/2020\")\n",
    "        ], \n",
    "        style = {'padding' : '0px' , 'backgroundColor' : '#9bba59'}),\n",
    "    \n",
    "    \n",
    "    html.Div([\n",
    "        html.Div([\n",
    "            html.Label(\"Scope\"),\n",
    "            dcc.Dropdown(id='Continent-dropdown',options=continent_list,value=\"World\"),\n",
    "            html.Label('_'),    \n",
    "            html.Label('Input Data'),         \n",
    "            dcc.RadioItems(id=\"Data-Input-dropdown\",options=data_input_list,value=\"ConfirmedCases\"),\n",
    "            html.Label('_'),    \n",
    "            html.Label('Policy'),         \n",
    "            dcc.RadioItems(id=\"Policies-dropdown\",options=policies_list,value=\"Default\")\n",
    "            ], className=\"two columns\" ),\n",
    "        html.Div([\n",
    "            dcc.Graph(id='Line_Graph')\n",
    "            ], className=\"ten columns\"),\n",
    "        html.Div([\n",
    "            dcc.Graph(id='World_Graph')\n",
    "            ], className=\"twelve columns\"),\n",
    "        ], className=\"row\")\n",
    "    ])\n",
    "\n",
    "\n",
    "\n",
    "@app.callback(Output('World_Graph', 'figure'),\n",
    "              [Input('Continent-dropdown', 'value'),\n",
    "               Input('Data-Input-dropdown', 'value'),\n",
    "               Input('Policies-dropdown', 'value')\n",
    "              ])\n",
    "\n",
    "\n",
    "def show_graph(continent, data, policy):\n",
    "    \n",
    "    if continent == 'World':\n",
    "        if policy == 'Default':\n",
    "            if data == 'ConfirmedCases':\n",
    "                return scatter_fig_def(cases_df)\n",
    "            elif data == 'ConfirmedDeaths':\n",
    "                return scatter_fig_def(deaths_df)\n",
    "            elif data == 'StringencyIndex':\n",
    "                return scatter_fig_def(stringency_df)\n",
    "        elif policy != 'Default':\n",
    "            if policy == 'School closing':\n",
    "                return chloreopath_fig_def(school_df)\n",
    "            elif policy == 'Stay at home requirements':\n",
    "                return chloreopath_fig_def(home_df)\n",
    "    elif continent != 'World':\n",
    "        if policy == 'Default':\n",
    "            if data == 'ConfirmedCases':\n",
    "                return  scatter_scope_fig_def(cases_df[cases_df.Continent_Name == continent])\n",
    "            elif data == 'ConfirmedDeaths':\n",
    "                return  scatter_scope_fig_def(deaths_df[deaths_df.Continent_Name == continent])\n",
    "            elif data == 'StringencyIndex':\n",
    "                return  scatter_scope_fig_def(stringency_df[stringency_df.Continent_Name == continent])\n",
    "        elif policy == 'School closing':\n",
    "            return  chloreopath_scope_fig_def(school_df[school_df.Continent_Name == continent])\n",
    "        elif policy == 'Stay at home requirements':\n",
    "            return  chloreopath_scope_fig_def(home_df[home_df.Continent_Name == continent]) \n",
    "\n",
    "\n",
    "@app.callback(Output('Line_Graph', 'figure'),\n",
    "              [Input('Data-Input-dropdown', 'value'),\n",
    "               Input('Policies-dropdown', 'value')\n",
    "              ])\n",
    "\n",
    "def show_line_graph(data, policy):\n",
    "    \n",
    "    if policy == 'Default':\n",
    "        if data == 'ConfirmedCases':\n",
    "            return  line_graph_def(cases_df[cases_df.CountryCode.isin(top_five)],policy)\n",
    "        elif data == 'ConfirmedDeaths':\n",
    "            return  line_graph_def(deaths_df[deaths_df.CountryCode.isin(top_five)],policy)\n",
    "        elif data == 'StringencyIndex':\n",
    "            return  line_graph_def(stringency_df[stringency_df.CountryCode.isin(top_five)],policy)\n",
    "    elif policy == 'School closing':\n",
    "        return  line_graph_def(school_df[school_df.CountryCode.isin(top_five)],policy)\n",
    "    elif policy == 'Stay at home requirements':\n",
    "        return  line_graph_def(home_df[home_df.CountryCode.isin(top_five)],policy)\n",
    "    \n",
    "if __name__ == '__main__':\n",
    "    app.run_server(debug=False)\n",
    "    \n",
    "    "
   ]
  }
 ],
 "metadata": {
  "kernelspec": {
   "display_name": "Python 3",
   "language": "python",
   "name": "python3"
  },
  "language_info": {
   "codemirror_mode": {
    "name": "ipython",
    "version": 3
   },
   "file_extension": ".py",
   "mimetype": "text/x-python",
   "name": "python",
   "nbconvert_exporter": "python",
   "pygments_lexer": "ipython3",
   "version": "3.7.1"
  }
 },
 "nbformat": 4,
 "nbformat_minor": 2
}
